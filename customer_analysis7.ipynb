{
  "nbformat": 4,
  "nbformat_minor": 0,
  "metadata": {
    "colab": {
      "name": "customer-analysis7.ipynb",
      "provenance": []
    },
    "kernelspec": {
      "name": "python3",
      "display_name": "Python 3"
    },
    "language_info": {
      "name": "python"
    }
  },
  "cells": [
    {
      "cell_type": "code",
      "metadata": {
        "id": "jLgEJWgYMKST"
      },
      "source": [
        "import pandas as pd\n",
        "import numpy as np\n"
      ],
      "execution_count": 6,
      "outputs": []
    },
    {
      "cell_type": "code",
      "metadata": {
        "colab": {
          "base_uri": "https://localhost:8080/"
        },
        "id": "FVqkESPYMpYl",
        "outputId": "baf5fde6-c358-4183-9a38-c638ecf85552"
      },
      "source": [
        "file = pd.read_csv('marketing_customer_analysis.csv')\n",
        "file.head()\n",
        "file.shape"
      ],
      "execution_count": 10,
      "outputs": [
        {
          "output_type": "execute_result",
          "data": {
            "text/plain": [
              "(9134, 24)"
            ]
          },
          "metadata": {
            "tags": []
          },
          "execution_count": 10
        }
      ]
    },
    {
      "cell_type": "code",
      "metadata": {
        "colab": {
          "base_uri": "https://localhost:8080/",
          "height": 436
        },
        "id": "v73cCJT1OBrV",
        "outputId": "6b91788f-31cb-455e-9fd6-b1cd85fae307"
      },
      "source": [
        "numerical = file.select_dtypes(include = np.number)\n",
        "numerical"
      ],
      "execution_count": 12,
      "outputs": [
        {
          "output_type": "execute_result",
          "data": {
            "text/html": [
              "<div>\n",
              "<style scoped>\n",
              "    .dataframe tbody tr th:only-of-type {\n",
              "        vertical-align: middle;\n",
              "    }\n",
              "\n",
              "    .dataframe tbody tr th {\n",
              "        vertical-align: top;\n",
              "    }\n",
              "\n",
              "    .dataframe thead th {\n",
              "        text-align: right;\n",
              "    }\n",
              "</style>\n",
              "<table border=\"1\" class=\"dataframe\">\n",
              "  <thead>\n",
              "    <tr style=\"text-align: right;\">\n",
              "      <th></th>\n",
              "      <th>Customer Lifetime Value</th>\n",
              "      <th>Income</th>\n",
              "      <th>Monthly Premium Auto</th>\n",
              "      <th>Months Since Last Claim</th>\n",
              "      <th>Months Since Policy Inception</th>\n",
              "      <th>Number of Open Complaints</th>\n",
              "      <th>Number of Policies</th>\n",
              "      <th>Total Claim Amount</th>\n",
              "    </tr>\n",
              "  </thead>\n",
              "  <tbody>\n",
              "    <tr>\n",
              "      <th>0</th>\n",
              "      <td>2763.519279</td>\n",
              "      <td>56274</td>\n",
              "      <td>69</td>\n",
              "      <td>32</td>\n",
              "      <td>5</td>\n",
              "      <td>0</td>\n",
              "      <td>1</td>\n",
              "      <td>384.811147</td>\n",
              "    </tr>\n",
              "    <tr>\n",
              "      <th>1</th>\n",
              "      <td>6979.535903</td>\n",
              "      <td>0</td>\n",
              "      <td>94</td>\n",
              "      <td>13</td>\n",
              "      <td>42</td>\n",
              "      <td>0</td>\n",
              "      <td>8</td>\n",
              "      <td>1131.464935</td>\n",
              "    </tr>\n",
              "    <tr>\n",
              "      <th>2</th>\n",
              "      <td>12887.431650</td>\n",
              "      <td>48767</td>\n",
              "      <td>108</td>\n",
              "      <td>18</td>\n",
              "      <td>38</td>\n",
              "      <td>0</td>\n",
              "      <td>2</td>\n",
              "      <td>566.472247</td>\n",
              "    </tr>\n",
              "    <tr>\n",
              "      <th>3</th>\n",
              "      <td>7645.861827</td>\n",
              "      <td>0</td>\n",
              "      <td>106</td>\n",
              "      <td>18</td>\n",
              "      <td>65</td>\n",
              "      <td>0</td>\n",
              "      <td>7</td>\n",
              "      <td>529.881344</td>\n",
              "    </tr>\n",
              "    <tr>\n",
              "      <th>4</th>\n",
              "      <td>2813.692575</td>\n",
              "      <td>43836</td>\n",
              "      <td>73</td>\n",
              "      <td>12</td>\n",
              "      <td>44</td>\n",
              "      <td>0</td>\n",
              "      <td>1</td>\n",
              "      <td>138.130879</td>\n",
              "    </tr>\n",
              "    <tr>\n",
              "      <th>...</th>\n",
              "      <td>...</td>\n",
              "      <td>...</td>\n",
              "      <td>...</td>\n",
              "      <td>...</td>\n",
              "      <td>...</td>\n",
              "      <td>...</td>\n",
              "      <td>...</td>\n",
              "      <td>...</td>\n",
              "    </tr>\n",
              "    <tr>\n",
              "      <th>9129</th>\n",
              "      <td>23405.987980</td>\n",
              "      <td>71941</td>\n",
              "      <td>73</td>\n",
              "      <td>18</td>\n",
              "      <td>89</td>\n",
              "      <td>0</td>\n",
              "      <td>2</td>\n",
              "      <td>198.234764</td>\n",
              "    </tr>\n",
              "    <tr>\n",
              "      <th>9130</th>\n",
              "      <td>3096.511217</td>\n",
              "      <td>21604</td>\n",
              "      <td>79</td>\n",
              "      <td>14</td>\n",
              "      <td>28</td>\n",
              "      <td>0</td>\n",
              "      <td>1</td>\n",
              "      <td>379.200000</td>\n",
              "    </tr>\n",
              "    <tr>\n",
              "      <th>9131</th>\n",
              "      <td>8163.890428</td>\n",
              "      <td>0</td>\n",
              "      <td>85</td>\n",
              "      <td>9</td>\n",
              "      <td>37</td>\n",
              "      <td>3</td>\n",
              "      <td>2</td>\n",
              "      <td>790.784983</td>\n",
              "    </tr>\n",
              "    <tr>\n",
              "      <th>9132</th>\n",
              "      <td>7524.442436</td>\n",
              "      <td>21941</td>\n",
              "      <td>96</td>\n",
              "      <td>34</td>\n",
              "      <td>3</td>\n",
              "      <td>0</td>\n",
              "      <td>3</td>\n",
              "      <td>691.200000</td>\n",
              "    </tr>\n",
              "    <tr>\n",
              "      <th>9133</th>\n",
              "      <td>2611.836866</td>\n",
              "      <td>0</td>\n",
              "      <td>77</td>\n",
              "      <td>3</td>\n",
              "      <td>90</td>\n",
              "      <td>0</td>\n",
              "      <td>1</td>\n",
              "      <td>369.600000</td>\n",
              "    </tr>\n",
              "  </tbody>\n",
              "</table>\n",
              "<p>9134 rows × 8 columns</p>\n",
              "</div>"
            ],
            "text/plain": [
              "      Customer Lifetime Value  Income  ...  Number of Policies  Total Claim Amount\n",
              "0                 2763.519279   56274  ...                   1          384.811147\n",
              "1                 6979.535903       0  ...                   8         1131.464935\n",
              "2                12887.431650   48767  ...                   2          566.472247\n",
              "3                 7645.861827       0  ...                   7          529.881344\n",
              "4                 2813.692575   43836  ...                   1          138.130879\n",
              "...                       ...     ...  ...                 ...                 ...\n",
              "9129             23405.987980   71941  ...                   2          198.234764\n",
              "9130              3096.511217   21604  ...                   1          379.200000\n",
              "9131              8163.890428       0  ...                   2          790.784983\n",
              "9132              7524.442436   21941  ...                   3          691.200000\n",
              "9133              2611.836866       0  ...                   1          369.600000\n",
              "\n",
              "[9134 rows x 8 columns]"
            ]
          },
          "metadata": {
            "tags": []
          },
          "execution_count": 12
        }
      ]
    },
    {
      "cell_type": "code",
      "metadata": {
        "colab": {
          "base_uri": "https://localhost:8080/"
        },
        "id": "Dp4ZQHnPPOAe",
        "outputId": "21682d03-715c-4e80-f495-97d622e75e00"
      },
      "source": [
        "\n",
        "q1 = file.quantile(0.25)\n",
        "q3 = file.quantile(0.75)\n",
        "iqr = q3-q1"
      ],
      "execution_count": 22,
      "outputs": [
        {
          "output_type": "execute_result",
          "data": {
            "text/plain": [
              "Customer                         0.0\n",
              "State                            0.0\n",
              "Customer Lifetime Value          0.0\n",
              "Response                         0.0\n",
              "Coverage                         0.0\n",
              "Education                        0.0\n",
              "Effective To Date                0.0\n",
              "EmploymentStatus                 0.0\n",
              "Gender                           0.0\n",
              "Income                           0.0\n",
              "Location Code                    0.0\n",
              "Marital Status                   0.0\n",
              "Monthly Premium Auto             0.0\n",
              "Months Since Last Claim          0.0\n",
              "Months Since Policy Inception    0.0\n",
              "Number of Open Complaints        0.0\n",
              "Number of Policies               0.0\n",
              "Policy Type                      0.0\n",
              "Policy                           0.0\n",
              "Renew Offer Type                 0.0\n",
              "Sales Channel                    0.0\n",
              "Total Claim Amount               0.0\n",
              "Vehicle Class                    0.0\n",
              "Vehicle Size                     0.0\n",
              "dtype: float64"
            ]
          },
          "metadata": {
            "tags": []
          },
          "execution_count": 22
        }
      ]
    },
    {
      "cell_type": "code",
      "metadata": {
        "id": "ILPfLNq_bcrs"
      },
      "source": [
        "file = file.drop(['Number of Open Complaints'], axis=1)"
      ],
      "execution_count": null,
      "outputs": []
    },
    {
      "cell_type": "code",
      "metadata": {
        "id": "H2WpqnkSbf8a"
      },
      "source": [
        "file['Response'].value_counts().plot(kind='bar')"
      ],
      "execution_count": null,
      "outputs": []
    },
    {
      "cell_type": "code",
      "metadata": {
        "id": "Y2xPE9UVbjju"
      },
      "source": [
        "\n",
        "file = file[file['Response']== 'Yes']\n",
        "file.shape"
      ],
      "execution_count": null,
      "outputs": []
    },
    {
      "cell_type": "code",
      "metadata": {
        "id": "h-_aCcG-bm4K"
      },
      "source": [
        "catagorical = file.select_dtypes(include = np.object)\n",
        "catagorical"
      ],
      "execution_count": null,
      "outputs": []
    },
    {
      "cell_type": "code",
      "metadata": {
        "id": "_f68DOaLbrXD"
      },
      "source": [
        "y = numerical['Total Claim Amount']\n",
        "X = numerical.drop(['Total Claim Amount'], axis=1)"
      ],
      "execution_count": null,
      "outputs": []
    },
    {
      "cell_type": "code",
      "metadata": {
        "id": "Ku0_58u_buFX"
      },
      "source": [
        "transformer = MinMaxScaler().fit(X)\n",
        "x_normalized = transformer.transform(X)\n",
        "print(x_normalized.shape)\n",
        "x_normalized=pd.DataFrame(x_normalized, columns=X.columns)"
      ],
      "execution_count": null,
      "outputs": []
    },
    {
      "cell_type": "code",
      "metadata": {
        "id": "ZVzNPvdvby6x"
      },
      "source": [
        "from sklearn.preprocessing import OneHotEncoder\n",
        "encoder = OneHotEncoder(drop='first').fit(catagorical)\n",
        "print(encoder.categories_)\n",
        "encoded = encoder.transform(catagorical).toarray()\n",
        "print(encoded)\n",
        "onehot_encoded = pd.DataFrame(encoded)#columns=encoder.categories_)\n",
        "onehot_encoded.head()"
      ],
      "execution_count": null,
      "outputs": []
    },
    {
      "cell_type": "code",
      "metadata": {
        "id": "hWPR7vP2b2IR"
      },
      "source": [
        "from sklearn.preprocessing import LabelEncoder\n",
        "label_encoded = LabelEncoder().fit(catagorical['State']).transform(catagorical['State']) # ordered wrt value counts\n",
        "label_encoded = pd.DataFrame(label_encoded, columns=['State'])\n",
        "print(label_encoded)\n",
        "label_encoded.value_counts()"
      ],
      "execution_count": null,
      "outputs": []
    },
    {
      "cell_type": "code",
      "metadata": {
        "id": "q4W3leR2b6Jk"
      },
      "source": [
        "x_normalized"
      ],
      "execution_count": null,
      "outputs": []
    },
    {
      "cell_type": "code",
      "metadata": {
        "id": "T1NtTKmGb9KT"
      },
      "source": [
        "X = pd.concat([x_normalized,label_encoded], axis=1)\n"
      ],
      "execution_count": null,
      "outputs": []
    },
    {
      "cell_type": "code",
      "metadata": {
        "id": "oS1StuOWcNX8"
      },
      "source": [
        "from sklearn.model_selection import train_test_split\n",
        "X_train, X_test, y_train, y_test = train_test_split(X, y, test_size=0.2, random_state=100)"
      ],
      "execution_count": null,
      "outputs": []
    },
    {
      "cell_type": "code",
      "metadata": {
        "id": "wQN4t4NycRe-"
      },
      "source": [
        "X_train.head()"
      ],
      "execution_count": null,
      "outputs": []
    },
    {
      "cell_type": "code",
      "metadata": {
        "id": "ZO1w69hecUXD"
      },
      "source": [
        "lm = linear_model.LinearRegression()\n",
        "model = lm.fit(X_train,y_train)\n",
        "model"
      ],
      "execution_count": null,
      "outputs": []
    }
  ]
}